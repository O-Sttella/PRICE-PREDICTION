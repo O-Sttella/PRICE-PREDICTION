{
  "nbformat": 4,
  "nbformat_minor": 0,
  "metadata": {
    "kernelspec": {
      "display_name": "Python 3",
      "language": "python",
      "name": "python3"
    },
    "language_info": {
      "codemirror_mode": {
        "name": "ipython",
        "version": 3
      },
      "file_extension": ".py",
      "mimetype": "text/x-python",
      "name": "python",
      "nbconvert_exporter": "python",
      "pygments_lexer": "ipython3",
      "version": "3.7.6"
    },
    "colab": {
      "name": "PRICING PREDICTION.ipynb",
      "provenance": [],
      "collapsed_sections": [],
      "include_colab_link": true
    }
  },
  "cells": [
    {
      "cell_type": "markdown",
      "metadata": {
        "id": "view-in-github",
        "colab_type": "text"
      },
      "source": [
        "<a href=\"https://colab.research.google.com/github/O-Sttella/PRICE-PREDICTION/blob/main/PRICING_PREDICTION.ipynb\" target=\"_parent\"><img src=\"https://colab.research.google.com/assets/colab-badge.svg\" alt=\"Open In Colab\"/></a>"
      ]
    },
    {
      "cell_type": "markdown",
      "metadata": {
        "id": "z-ZTRTBHbIxZ"
      },
      "source": [
        "# INTRODUCTION"
      ]
    },
    {
      "cell_type": "markdown",
      "metadata": {
        "id": "qD7DsgKFbIxc"
      },
      "source": [
        "Economists have opined that human desires are insatiable which means that they can never be totally satisfied at any point in time as they will always have an endless list of wants as their lives progress. This is why they categorise human desires into wants and needs. Wants here refer to those things a person desires including those things not realistically within their reach, while needs are those desires that very essential for proper functioning. Human needs very from person to person, however according to Abraham Maslow, there are three needs at the top of the human needs hierrachy for all humans and they are FOOD, CLOTHING AND SHELTER. Every human needs food and water to stay alive, clothing to keep warm and shelter to stay protected from the harsh weather conditions and the effects of the physical and social environments which makes it the most important human need out of the 3 basic needs.\n",
        "\n",
        "The three basic needs are universal needs and the need for proper shelter/housing for all remains a major challenge for governments all over the world. This is because the housing sector is regarteded as an important driver in stimulating economic growth in a country. Owning a home is always the major life goals of many adults and households as it is believed to be a good investment even though this remains a mirage for most people as they are never able to fulfill it."
      ]
    },
    {
      "cell_type": "markdown",
      "metadata": {
        "id": "c-5CeDdNbIxd"
      },
      "source": [
        "# PROBLEM STATEMENT"
      ]
    },
    {
      "cell_type": "markdown",
      "metadata": {
        "id": "OUpiAGw_bIxd"
      },
      "source": [
        "With the continous expansion of cities due to migration and increase in world populations, there has been an increase in the demand for houses as it is the most basic need of man. Over the years, there has been an an upward rise in rural-urban migration when compared to urban-rural migration. However, it is important to note that the problem of housing is common to both urban and rural dwellers. this is because while urban dwellers grapple with the problem of quanity (insufficient housing), rural dwellers are faced with the problem of quality as most of the houses are without sufficient power supply, in built toilet systems, water supply, etc. \n",
        "\n",
        "There is a huge housing deficit in Africa and Nigeria in particular. According to the World Bank and the Central Bank of Nigeria, Nigeria has a housing deficit of 17-22million units. This means millions of people have been deprived of their right to adequate housing that is safe, secure, healthy, available and inexpensive as enshrined in the Habitat Agenda with the goal of providing adequate shelter for all (UN Habitat, 2001). This has made various governments in the country to come up with different housing policies over the years even though they are do not always achieve much as it has not been prioritised like security, health, education, power supply, etc. One of government's effort led to the establishment of the Federal Mortgage Bank of Nigeria by the Olusegun Obasanjo's administration in 1977 to give out mortgage loans to individuals to eneble them build houses of their own. \n",
        "\n",
        "years down the line, the problem of deficit housing still persists as individuals and real estate companies are faced with many challenges like the land use act of 1978 which makes state governments the owners of land in a state, rigorous process of obtaainig relevant documents from government and communities, continous rise in cost of building materials, etc., which makes the number of available houses insufficient. Hence, the high price of houses in the country which makes it even out of reach for most citizens especially low income earners.\n",
        "\n",
        "The challenges faced by urban dwellers is not just that of unavailability of houses but also the non-affordability of the these available houses. Cost of living is generally high in the cities and due to the high demand for houses, its prices are expectedly high. "
      ]
    },
    {
      "cell_type": "markdown",
      "metadata": {
        "id": "89BKYzCobIxe"
      },
      "source": [
        "# DATA"
      ]
    },
    {
      "cell_type": "markdown",
      "metadata": {
        "id": "OgOHMAr1bIxf"
      },
      "source": [
        "This study will be carried out using secondary data sourced from kaggle. This data contains 46 rows and 3 columns namely area, number ofrooms and price. The data shows us how much respondents paid for various houses depending on their area and number of rooms."
      ]
    },
    {
      "cell_type": "code",
      "metadata": {
        "id": "xJcH3hE0bIxf"
      },
      "source": [
        "import numpy as np\n",
        "import pandas as pd\n",
        "import seaborn as sns\n",
        "import matplotlib.pyplot as plt"
      ],
      "execution_count": null,
      "outputs": []
    },
    {
      "cell_type": "markdown",
      "metadata": {
        "id": "yyEgHYKsbIxg"
      },
      "source": [
        "Having explained the data to be used for these study, we will now go ahead to imort it into this notebook."
      ]
    },
    {
      "cell_type": "code",
      "metadata": {
        "id": "JRbg9COMbIxg"
      },
      "source": [
        "house_price = pd.read_csv(\"house_price.csv\")"
      ],
      "execution_count": null,
      "outputs": []
    },
    {
      "cell_type": "code",
      "metadata": {
        "id": "MbXN2ufdbIxi",
        "outputId": "76e9b426-3509-4671-a72d-6fce000be180"
      },
      "source": [
        "house_price"
      ],
      "execution_count": null,
      "outputs": [
        {
          "output_type": "execute_result",
          "data": {
            "text/html": [
              "<div>\n",
              "<style scoped>\n",
              "    .dataframe tbody tr th:only-of-type {\n",
              "        vertical-align: middle;\n",
              "    }\n",
              "\n",
              "    .dataframe tbody tr th {\n",
              "        vertical-align: top;\n",
              "    }\n",
              "\n",
              "    .dataframe thead th {\n",
              "        text-align: right;\n",
              "    }\n",
              "</style>\n",
              "<table border=\"1\" class=\"dataframe\">\n",
              "  <thead>\n",
              "    <tr style=\"text-align: right;\">\n",
              "      <th></th>\n",
              "      <th>area</th>\n",
              "      <th>rooms</th>\n",
              "      <th>price</th>\n",
              "    </tr>\n",
              "  </thead>\n",
              "  <tbody>\n",
              "    <tr>\n",
              "      <th>0</th>\n",
              "      <td>2104</td>\n",
              "      <td>3</td>\n",
              "      <td>399900</td>\n",
              "    </tr>\n",
              "    <tr>\n",
              "      <th>1</th>\n",
              "      <td>1600</td>\n",
              "      <td>3</td>\n",
              "      <td>329900</td>\n",
              "    </tr>\n",
              "    <tr>\n",
              "      <th>2</th>\n",
              "      <td>2400</td>\n",
              "      <td>3</td>\n",
              "      <td>369000</td>\n",
              "    </tr>\n",
              "    <tr>\n",
              "      <th>3</th>\n",
              "      <td>1416</td>\n",
              "      <td>2</td>\n",
              "      <td>232000</td>\n",
              "    </tr>\n",
              "    <tr>\n",
              "      <th>4</th>\n",
              "      <td>3000</td>\n",
              "      <td>4</td>\n",
              "      <td>539900</td>\n",
              "    </tr>\n",
              "    <tr>\n",
              "      <th>5</th>\n",
              "      <td>1985</td>\n",
              "      <td>4</td>\n",
              "      <td>299900</td>\n",
              "    </tr>\n",
              "    <tr>\n",
              "      <th>6</th>\n",
              "      <td>1534</td>\n",
              "      <td>3</td>\n",
              "      <td>314900</td>\n",
              "    </tr>\n",
              "    <tr>\n",
              "      <th>7</th>\n",
              "      <td>1427</td>\n",
              "      <td>3</td>\n",
              "      <td>198999</td>\n",
              "    </tr>\n",
              "    <tr>\n",
              "      <th>8</th>\n",
              "      <td>1380</td>\n",
              "      <td>3</td>\n",
              "      <td>212000</td>\n",
              "    </tr>\n",
              "    <tr>\n",
              "      <th>9</th>\n",
              "      <td>1494</td>\n",
              "      <td>3</td>\n",
              "      <td>242500</td>\n",
              "    </tr>\n",
              "    <tr>\n",
              "      <th>10</th>\n",
              "      <td>1940</td>\n",
              "      <td>4</td>\n",
              "      <td>239999</td>\n",
              "    </tr>\n",
              "    <tr>\n",
              "      <th>11</th>\n",
              "      <td>2000</td>\n",
              "      <td>3</td>\n",
              "      <td>347000</td>\n",
              "    </tr>\n",
              "    <tr>\n",
              "      <th>12</th>\n",
              "      <td>1890</td>\n",
              "      <td>3</td>\n",
              "      <td>329999</td>\n",
              "    </tr>\n",
              "    <tr>\n",
              "      <th>13</th>\n",
              "      <td>4478</td>\n",
              "      <td>5</td>\n",
              "      <td>699900</td>\n",
              "    </tr>\n",
              "    <tr>\n",
              "      <th>14</th>\n",
              "      <td>1268</td>\n",
              "      <td>3</td>\n",
              "      <td>259900</td>\n",
              "    </tr>\n",
              "    <tr>\n",
              "      <th>15</th>\n",
              "      <td>2300</td>\n",
              "      <td>4</td>\n",
              "      <td>449900</td>\n",
              "    </tr>\n",
              "    <tr>\n",
              "      <th>16</th>\n",
              "      <td>1320</td>\n",
              "      <td>2</td>\n",
              "      <td>299900</td>\n",
              "    </tr>\n",
              "    <tr>\n",
              "      <th>17</th>\n",
              "      <td>1236</td>\n",
              "      <td>3</td>\n",
              "      <td>199900</td>\n",
              "    </tr>\n",
              "    <tr>\n",
              "      <th>18</th>\n",
              "      <td>2609</td>\n",
              "      <td>4</td>\n",
              "      <td>499998</td>\n",
              "    </tr>\n",
              "    <tr>\n",
              "      <th>19</th>\n",
              "      <td>3031</td>\n",
              "      <td>4</td>\n",
              "      <td>599000</td>\n",
              "    </tr>\n",
              "    <tr>\n",
              "      <th>20</th>\n",
              "      <td>1767</td>\n",
              "      <td>3</td>\n",
              "      <td>252900</td>\n",
              "    </tr>\n",
              "    <tr>\n",
              "      <th>21</th>\n",
              "      <td>1888</td>\n",
              "      <td>2</td>\n",
              "      <td>255000</td>\n",
              "    </tr>\n",
              "    <tr>\n",
              "      <th>22</th>\n",
              "      <td>1604</td>\n",
              "      <td>3</td>\n",
              "      <td>242900</td>\n",
              "    </tr>\n",
              "    <tr>\n",
              "      <th>23</th>\n",
              "      <td>1962</td>\n",
              "      <td>4</td>\n",
              "      <td>259900</td>\n",
              "    </tr>\n",
              "    <tr>\n",
              "      <th>24</th>\n",
              "      <td>3890</td>\n",
              "      <td>3</td>\n",
              "      <td>573900</td>\n",
              "    </tr>\n",
              "    <tr>\n",
              "      <th>25</th>\n",
              "      <td>1100</td>\n",
              "      <td>3</td>\n",
              "      <td>249900</td>\n",
              "    </tr>\n",
              "    <tr>\n",
              "      <th>26</th>\n",
              "      <td>1458</td>\n",
              "      <td>3</td>\n",
              "      <td>464500</td>\n",
              "    </tr>\n",
              "    <tr>\n",
              "      <th>27</th>\n",
              "      <td>2526</td>\n",
              "      <td>3</td>\n",
              "      <td>469000</td>\n",
              "    </tr>\n",
              "    <tr>\n",
              "      <th>28</th>\n",
              "      <td>2200</td>\n",
              "      <td>3</td>\n",
              "      <td>475000</td>\n",
              "    </tr>\n",
              "    <tr>\n",
              "      <th>29</th>\n",
              "      <td>2637</td>\n",
              "      <td>3</td>\n",
              "      <td>299900</td>\n",
              "    </tr>\n",
              "    <tr>\n",
              "      <th>30</th>\n",
              "      <td>1839</td>\n",
              "      <td>2</td>\n",
              "      <td>349900</td>\n",
              "    </tr>\n",
              "    <tr>\n",
              "      <th>31</th>\n",
              "      <td>1000</td>\n",
              "      <td>1</td>\n",
              "      <td>169900</td>\n",
              "    </tr>\n",
              "    <tr>\n",
              "      <th>32</th>\n",
              "      <td>2040</td>\n",
              "      <td>4</td>\n",
              "      <td>314900</td>\n",
              "    </tr>\n",
              "    <tr>\n",
              "      <th>33</th>\n",
              "      <td>3137</td>\n",
              "      <td>3</td>\n",
              "      <td>579900</td>\n",
              "    </tr>\n",
              "    <tr>\n",
              "      <th>34</th>\n",
              "      <td>1811</td>\n",
              "      <td>4</td>\n",
              "      <td>285900</td>\n",
              "    </tr>\n",
              "    <tr>\n",
              "      <th>35</th>\n",
              "      <td>1437</td>\n",
              "      <td>3</td>\n",
              "      <td>249900</td>\n",
              "    </tr>\n",
              "    <tr>\n",
              "      <th>36</th>\n",
              "      <td>1239</td>\n",
              "      <td>3</td>\n",
              "      <td>229900</td>\n",
              "    </tr>\n",
              "    <tr>\n",
              "      <th>37</th>\n",
              "      <td>2132</td>\n",
              "      <td>4</td>\n",
              "      <td>345000</td>\n",
              "    </tr>\n",
              "    <tr>\n",
              "      <th>38</th>\n",
              "      <td>4215</td>\n",
              "      <td>4</td>\n",
              "      <td>549000</td>\n",
              "    </tr>\n",
              "    <tr>\n",
              "      <th>39</th>\n",
              "      <td>2162</td>\n",
              "      <td>4</td>\n",
              "      <td>287000</td>\n",
              "    </tr>\n",
              "    <tr>\n",
              "      <th>40</th>\n",
              "      <td>1664</td>\n",
              "      <td>2</td>\n",
              "      <td>368500</td>\n",
              "    </tr>\n",
              "    <tr>\n",
              "      <th>41</th>\n",
              "      <td>2238</td>\n",
              "      <td>3</td>\n",
              "      <td>329900</td>\n",
              "    </tr>\n",
              "    <tr>\n",
              "      <th>42</th>\n",
              "      <td>2567</td>\n",
              "      <td>4</td>\n",
              "      <td>314000</td>\n",
              "    </tr>\n",
              "    <tr>\n",
              "      <th>43</th>\n",
              "      <td>1200</td>\n",
              "      <td>3</td>\n",
              "      <td>299000</td>\n",
              "    </tr>\n",
              "    <tr>\n",
              "      <th>44</th>\n",
              "      <td>852</td>\n",
              "      <td>2</td>\n",
              "      <td>179900</td>\n",
              "    </tr>\n",
              "    <tr>\n",
              "      <th>45</th>\n",
              "      <td>1852</td>\n",
              "      <td>4</td>\n",
              "      <td>299900</td>\n",
              "    </tr>\n",
              "    <tr>\n",
              "      <th>46</th>\n",
              "      <td>1203</td>\n",
              "      <td>3</td>\n",
              "      <td>239500</td>\n",
              "    </tr>\n",
              "  </tbody>\n",
              "</table>\n",
              "</div>"
            ],
            "text/plain": [
              "    area  rooms   price\n",
              "0   2104      3  399900\n",
              "1   1600      3  329900\n",
              "2   2400      3  369000\n",
              "3   1416      2  232000\n",
              "4   3000      4  539900\n",
              "5   1985      4  299900\n",
              "6   1534      3  314900\n",
              "7   1427      3  198999\n",
              "8   1380      3  212000\n",
              "9   1494      3  242500\n",
              "10  1940      4  239999\n",
              "11  2000      3  347000\n",
              "12  1890      3  329999\n",
              "13  4478      5  699900\n",
              "14  1268      3  259900\n",
              "15  2300      4  449900\n",
              "16  1320      2  299900\n",
              "17  1236      3  199900\n",
              "18  2609      4  499998\n",
              "19  3031      4  599000\n",
              "20  1767      3  252900\n",
              "21  1888      2  255000\n",
              "22  1604      3  242900\n",
              "23  1962      4  259900\n",
              "24  3890      3  573900\n",
              "25  1100      3  249900\n",
              "26  1458      3  464500\n",
              "27  2526      3  469000\n",
              "28  2200      3  475000\n",
              "29  2637      3  299900\n",
              "30  1839      2  349900\n",
              "31  1000      1  169900\n",
              "32  2040      4  314900\n",
              "33  3137      3  579900\n",
              "34  1811      4  285900\n",
              "35  1437      3  249900\n",
              "36  1239      3  229900\n",
              "37  2132      4  345000\n",
              "38  4215      4  549000\n",
              "39  2162      4  287000\n",
              "40  1664      2  368500\n",
              "41  2238      3  329900\n",
              "42  2567      4  314000\n",
              "43  1200      3  299000\n",
              "44   852      2  179900\n",
              "45  1852      4  299900\n",
              "46  1203      3  239500"
            ]
          },
          "metadata": {
            "tags": []
          },
          "execution_count": 4
        }
      ]
    },
    {
      "cell_type": "code",
      "metadata": {
        "id": "3BUlCCxebIxj",
        "outputId": "1d408d69-6fbb-4754-eb79-b96401e919f1"
      },
      "source": [
        "house_price.head(5)"
      ],
      "execution_count": null,
      "outputs": [
        {
          "output_type": "execute_result",
          "data": {
            "text/html": [
              "<div>\n",
              "<style scoped>\n",
              "    .dataframe tbody tr th:only-of-type {\n",
              "        vertical-align: middle;\n",
              "    }\n",
              "\n",
              "    .dataframe tbody tr th {\n",
              "        vertical-align: top;\n",
              "    }\n",
              "\n",
              "    .dataframe thead th {\n",
              "        text-align: right;\n",
              "    }\n",
              "</style>\n",
              "<table border=\"1\" class=\"dataframe\">\n",
              "  <thead>\n",
              "    <tr style=\"text-align: right;\">\n",
              "      <th></th>\n",
              "      <th>area</th>\n",
              "      <th>rooms</th>\n",
              "      <th>price</th>\n",
              "    </tr>\n",
              "  </thead>\n",
              "  <tbody>\n",
              "    <tr>\n",
              "      <th>0</th>\n",
              "      <td>2104</td>\n",
              "      <td>3</td>\n",
              "      <td>399900</td>\n",
              "    </tr>\n",
              "    <tr>\n",
              "      <th>1</th>\n",
              "      <td>1600</td>\n",
              "      <td>3</td>\n",
              "      <td>329900</td>\n",
              "    </tr>\n",
              "    <tr>\n",
              "      <th>2</th>\n",
              "      <td>2400</td>\n",
              "      <td>3</td>\n",
              "      <td>369000</td>\n",
              "    </tr>\n",
              "    <tr>\n",
              "      <th>3</th>\n",
              "      <td>1416</td>\n",
              "      <td>2</td>\n",
              "      <td>232000</td>\n",
              "    </tr>\n",
              "    <tr>\n",
              "      <th>4</th>\n",
              "      <td>3000</td>\n",
              "      <td>4</td>\n",
              "      <td>539900</td>\n",
              "    </tr>\n",
              "  </tbody>\n",
              "</table>\n",
              "</div>"
            ],
            "text/plain": [
              "   area  rooms   price\n",
              "0  2104      3  399900\n",
              "1  1600      3  329900\n",
              "2  2400      3  369000\n",
              "3  1416      2  232000\n",
              "4  3000      4  539900"
            ]
          },
          "metadata": {
            "tags": []
          },
          "execution_count": 5
        }
      ]
    },
    {
      "cell_type": "code",
      "metadata": {
        "id": "V4UqjZ9ebIxj",
        "outputId": "8771a3f6-899d-4fa6-a588-c6c501129708"
      },
      "source": [
        "house_price.tail(5)"
      ],
      "execution_count": null,
      "outputs": [
        {
          "output_type": "execute_result",
          "data": {
            "text/html": [
              "<div>\n",
              "<style scoped>\n",
              "    .dataframe tbody tr th:only-of-type {\n",
              "        vertical-align: middle;\n",
              "    }\n",
              "\n",
              "    .dataframe tbody tr th {\n",
              "        vertical-align: top;\n",
              "    }\n",
              "\n",
              "    .dataframe thead th {\n",
              "        text-align: right;\n",
              "    }\n",
              "</style>\n",
              "<table border=\"1\" class=\"dataframe\">\n",
              "  <thead>\n",
              "    <tr style=\"text-align: right;\">\n",
              "      <th></th>\n",
              "      <th>area</th>\n",
              "      <th>rooms</th>\n",
              "      <th>price</th>\n",
              "    </tr>\n",
              "  </thead>\n",
              "  <tbody>\n",
              "    <tr>\n",
              "      <th>42</th>\n",
              "      <td>2567</td>\n",
              "      <td>4</td>\n",
              "      <td>314000</td>\n",
              "    </tr>\n",
              "    <tr>\n",
              "      <th>43</th>\n",
              "      <td>1200</td>\n",
              "      <td>3</td>\n",
              "      <td>299000</td>\n",
              "    </tr>\n",
              "    <tr>\n",
              "      <th>44</th>\n",
              "      <td>852</td>\n",
              "      <td>2</td>\n",
              "      <td>179900</td>\n",
              "    </tr>\n",
              "    <tr>\n",
              "      <th>45</th>\n",
              "      <td>1852</td>\n",
              "      <td>4</td>\n",
              "      <td>299900</td>\n",
              "    </tr>\n",
              "    <tr>\n",
              "      <th>46</th>\n",
              "      <td>1203</td>\n",
              "      <td>3</td>\n",
              "      <td>239500</td>\n",
              "    </tr>\n",
              "  </tbody>\n",
              "</table>\n",
              "</div>"
            ],
            "text/plain": [
              "    area  rooms   price\n",
              "42  2567      4  314000\n",
              "43  1200      3  299000\n",
              "44   852      2  179900\n",
              "45  1852      4  299900\n",
              "46  1203      3  239500"
            ]
          },
          "metadata": {
            "tags": []
          },
          "execution_count": 6
        }
      ]
    },
    {
      "cell_type": "markdown",
      "metadata": {
        "id": "OZArFpjTbIxk"
      },
      "source": [
        "Haven uploaded the data and we can see there are no missing values since the data size is small, we will now go ahead to describe the data."
      ]
    },
    {
      "cell_type": "code",
      "metadata": {
        "id": "qlFgbzHAbIxk",
        "outputId": "4d7dcd23-2f3f-4c46-c704-987b95e1f4d3"
      },
      "source": [
        "house_price.describe()"
      ],
      "execution_count": null,
      "outputs": [
        {
          "output_type": "execute_result",
          "data": {
            "text/html": [
              "<div>\n",
              "<style scoped>\n",
              "    .dataframe tbody tr th:only-of-type {\n",
              "        vertical-align: middle;\n",
              "    }\n",
              "\n",
              "    .dataframe tbody tr th {\n",
              "        vertical-align: top;\n",
              "    }\n",
              "\n",
              "    .dataframe thead th {\n",
              "        text-align: right;\n",
              "    }\n",
              "</style>\n",
              "<table border=\"1\" class=\"dataframe\">\n",
              "  <thead>\n",
              "    <tr style=\"text-align: right;\">\n",
              "      <th></th>\n",
              "      <th>area</th>\n",
              "      <th>rooms</th>\n",
              "      <th>price</th>\n",
              "    </tr>\n",
              "  </thead>\n",
              "  <tbody>\n",
              "    <tr>\n",
              "      <th>count</th>\n",
              "      <td>47.000000</td>\n",
              "      <td>47.000000</td>\n",
              "      <td>47.000000</td>\n",
              "    </tr>\n",
              "    <tr>\n",
              "      <th>mean</th>\n",
              "      <td>2000.680851</td>\n",
              "      <td>3.170213</td>\n",
              "      <td>340412.659574</td>\n",
              "    </tr>\n",
              "    <tr>\n",
              "      <th>std</th>\n",
              "      <td>794.702354</td>\n",
              "      <td>0.760982</td>\n",
              "      <td>125039.899586</td>\n",
              "    </tr>\n",
              "    <tr>\n",
              "      <th>min</th>\n",
              "      <td>852.000000</td>\n",
              "      <td>1.000000</td>\n",
              "      <td>169900.000000</td>\n",
              "    </tr>\n",
              "    <tr>\n",
              "      <th>25%</th>\n",
              "      <td>1432.000000</td>\n",
              "      <td>3.000000</td>\n",
              "      <td>249900.000000</td>\n",
              "    </tr>\n",
              "    <tr>\n",
              "      <th>50%</th>\n",
              "      <td>1888.000000</td>\n",
              "      <td>3.000000</td>\n",
              "      <td>299900.000000</td>\n",
              "    </tr>\n",
              "    <tr>\n",
              "      <th>75%</th>\n",
              "      <td>2269.000000</td>\n",
              "      <td>4.000000</td>\n",
              "      <td>384450.000000</td>\n",
              "    </tr>\n",
              "    <tr>\n",
              "      <th>max</th>\n",
              "      <td>4478.000000</td>\n",
              "      <td>5.000000</td>\n",
              "      <td>699900.000000</td>\n",
              "    </tr>\n",
              "  </tbody>\n",
              "</table>\n",
              "</div>"
            ],
            "text/plain": [
              "              area      rooms          price\n",
              "count    47.000000  47.000000      47.000000\n",
              "mean   2000.680851   3.170213  340412.659574\n",
              "std     794.702354   0.760982  125039.899586\n",
              "min     852.000000   1.000000  169900.000000\n",
              "25%    1432.000000   3.000000  249900.000000\n",
              "50%    1888.000000   3.000000  299900.000000\n",
              "75%    2269.000000   4.000000  384450.000000\n",
              "max    4478.000000   5.000000  699900.000000"
            ]
          },
          "metadata": {
            "tags": []
          },
          "execution_count": 7
        }
      ]
    },
    {
      "cell_type": "markdown",
      "metadata": {
        "id": "jernIrrxbIxl"
      },
      "source": [
        "The above description shows us the general out look of the data and we can see the average number of rooms sought by respondents is 3 rooms on a 2000.68mps at the price of 340412.65, while a room sits on 852mps at the cost of 169900. \n",
        "\n",
        "Next, we visualise the data to see trends using histplot and distplots."
      ]
    },
    {
      "cell_type": "code",
      "metadata": {
        "id": "GKX8eJ0fbIxl",
        "outputId": "ab6eee7d-00bc-446f-b2a6-c26bd87da2a6"
      },
      "source": [
        "sns.histplot(house_price['area'])\n",
        "plt.title(\"HOUSE PRICING PREDICTION:\\nAREA\")"
      ],
      "execution_count": null,
      "outputs": [
        {
          "output_type": "execute_result",
          "data": {
            "text/plain": [
              "Text(0.5, 1.0, 'HOUSE PRICING PREDICTION:\\nAREA')"
            ]
          },
          "metadata": {
            "tags": []
          },
          "execution_count": 11
        },
        {
          "output_type": "display_data",
          "data": {
            "image/png": "[encoded data removed]",
            "text/plain": [
              "<Figure size 432x288 with 1 Axes>"
            ]
          },
          "metadata": {
            "tags": [],
            "needs_background": "light"
          }
        }
      ]
    },
    {
      "cell_type": "code",
      "metadata": {
        "id": "nTujsw3QbIxl",
        "outputId": "85acf6cf-460b-4e4e-92fb-7ecf035495a5"
      },
      "source": [
        "sns.distplot(house_price['area'])"
      ],
      "execution_count": null,
      "outputs": [
        {
          "output_type": "stream",
          "text": [
            "C:\\Users\\DELL\\anaconda3\\lib\\site-packages\\seaborn\\distributions.py:2557: FutureWarning: `distplot` is a deprecated function and will be removed in a future version. Please adapt your code to use either `displot` (a figure-level function with similar flexibility) or `histplot` (an axes-level function for histograms).\n",
            "  warnings.warn(msg, FutureWarning)\n"
          ],
          "name": "stderr"
        },
        {
          "output_type": "execute_result",
          "data": {
            "text/plain": [
              "<matplotlib.axes._subplots.AxesSubplot at 0x1591e2b3cc8>"
            ]
          },
          "metadata": {
            "tags": []
          },
          "execution_count": 10
        },
        {
          "output_type": "display_data",
          "data": {
            "image/png": "[encoded data removed]",
            "text/plain": [
              "<Figure size 432x288 with 1 Axes>"
            ]
          },
          "metadata": {
            "tags": [],
            "needs_background": "light"
          }
        }
      ]
    },
    {
      "cell_type": "markdown",
      "metadata": {
        "id": "HEpSr1gAbIxm"
      },
      "source": [
        "EXPLAIN THE ABOVE VISUALISATION"
      ]
    },
    {
      "cell_type": "code",
      "metadata": {
        "id": "X33GWUlEbIxm",
        "outputId": "7799376e-4348-444e-9b2c-95dd50494ce0"
      },
      "source": [
        "sns.histplot(house_price['rooms'])\n",
        "plt.title(\"HOUSE PRICING PREDICTION:\\nROOMS\")"
      ],
      "execution_count": null,
      "outputs": [
        {
          "output_type": "execute_result",
          "data": {
            "text/plain": [
              "Text(0.5, 1.0, 'HOUSE PRICING PREDICTION:\\nROOMS')"
            ]
          },
          "metadata": {
            "tags": []
          },
          "execution_count": 12
        },
        {
          "output_type": "display_data",
          "data": {
            "image/png": "[encoded data removed]",
            "text/plain": [
              "<Figure size 432x288 with 1 Axes>"
            ]
          },
          "metadata": {
            "tags": [],
            "needs_background": "light"
          }
        }
      ]
    },
    {
      "cell_type": "code",
      "metadata": {
        "id": "TU4DJCR2bIxm",
        "outputId": "a78771a7-61cd-4238-f3d7-36e5f5fed7ca"
      },
      "source": [
        "sns.distplot(house_price['rooms'])"
      ],
      "execution_count": null,
      "outputs": [
        {
          "output_type": "stream",
          "text": [
            "C:\\Users\\DELL\\anaconda3\\lib\\site-packages\\seaborn\\distributions.py:2557: FutureWarning: `distplot` is a deprecated function and will be removed in a future version. Please adapt your code to use either `displot` (a figure-level function with similar flexibility) or `histplot` (an axes-level function for histograms).\n",
            "  warnings.warn(msg, FutureWarning)\n"
          ],
          "name": "stderr"
        },
        {
          "output_type": "execute_result",
          "data": {
            "text/plain": [
              "<matplotlib.axes._subplots.AxesSubplot at 0x1591e4418c8>"
            ]
          },
          "metadata": {
            "tags": []
          },
          "execution_count": 13
        },
        {
          "output_type": "display_data",
          "data": {
            "image/png": "[encoded data removed]",
            "text/plain": [
              "<Figure size 432x288 with 1 Axes>"
            ]
          },
          "metadata": {
            "tags": [],
            "needs_background": "light"
          }
        }
      ]
    },
    {
      "cell_type": "markdown",
      "metadata": {
        "id": "-tUpNvG9bIxn"
      },
      "source": [
        "DESCRIBE ROOMS VISUALISATIONS"
      ]
    },
    {
      "cell_type": "code",
      "metadata": {
        "id": "Loou_-yrbIxn",
        "outputId": "93091f41-d5d0-47e7-aaf5-727aadd74db1"
      },
      "source": [
        "sns.histplot(house_price['price'])\n",
        "plt.title(\"HOUSE PRICING PREDICTION:\\nPRICE\")"
      ],
      "execution_count": null,
      "outputs": [
        {
          "output_type": "execute_result",
          "data": {
            "text/plain": [
              "Text(0.5, 1.0, 'HOUSE PRICING PREDICTION:\\nPRICE')"
            ]
          },
          "metadata": {
            "tags": []
          },
          "execution_count": 14
        },
        {
          "output_type": "display_data",
          "data": {
            "image/png": "[encoded data removed]",
            "text/plain": [
              "<Figure size 432x288 with 1 Axes>"
            ]
          },
          "metadata": {
            "tags": [],
            "needs_background": "light"
          }
        }
      ]
    },
    {
      "cell_type": "code",
      "metadata": {
        "id": "JKpnFe-cbIxn",
        "outputId": "a2669dcd-e1de-4f57-8aa0-4bab2070898b"
      },
      "source": [
        "sns.displot(house_price['price'])"
      ],
      "execution_count": null,
      "outputs": [
        {
          "output_type": "execute_result",
          "data": {
            "text/plain": [
              "<seaborn.axisgrid.FacetGrid at 0x1591e5bf348>"
            ]
          },
          "metadata": {
            "tags": []
          },
          "execution_count": 16
        },
        {
          "output_type": "display_data",
          "data": {
            "image/png": "[encoded data removed]",
            "text/plain": [
              "<Figure size 360x360 with 1 Axes>"
            ]
          },
          "metadata": {
            "tags": [],
            "needs_background": "light"
          }
        }
      ]
    },
    {
      "cell_type": "markdown",
      "metadata": {
        "id": "xvUY8_SibIxn"
      },
      "source": [
        "EXPLAIN THIS VISUALISATION AND WHY YOU USED DISPLOT AS AGAINST THE USUAL DISTPLOT"
      ]
    },
    {
      "cell_type": "markdown",
      "metadata": {
        "id": "-onRf3cybIxo"
      },
      "source": [
        "Next, we check for the relationship between the variables; whether they are closely or sparsely correlate."
      ]
    },
    {
      "cell_type": "code",
      "metadata": {
        "id": "nGTbUAh1bIxo",
        "outputId": "4d18d187-6ea3-4d02-dc5a-5325c456eca7"
      },
      "source": [
        "house_price.corr()"
      ],
      "execution_count": null,
      "outputs": [
        {
          "output_type": "execute_result",
          "data": {
            "text/html": [
              "<div>\n",
              "<style scoped>\n",
              "    .dataframe tbody tr th:only-of-type {\n",
              "        vertical-align: middle;\n",
              "    }\n",
              "\n",
              "    .dataframe tbody tr th {\n",
              "        vertical-align: top;\n",
              "    }\n",
              "\n",
              "    .dataframe thead th {\n",
              "        text-align: right;\n",
              "    }\n",
              "</style>\n",
              "<table border=\"1\" class=\"dataframe\">\n",
              "  <thead>\n",
              "    <tr style=\"text-align: right;\">\n",
              "      <th></th>\n",
              "      <th>area</th>\n",
              "      <th>rooms</th>\n",
              "      <th>price</th>\n",
              "    </tr>\n",
              "  </thead>\n",
              "  <tbody>\n",
              "    <tr>\n",
              "      <th>area</th>\n",
              "      <td>1.000000</td>\n",
              "      <td>0.559967</td>\n",
              "      <td>0.854988</td>\n",
              "    </tr>\n",
              "    <tr>\n",
              "      <th>rooms</th>\n",
              "      <td>0.559967</td>\n",
              "      <td>1.000000</td>\n",
              "      <td>0.442261</td>\n",
              "    </tr>\n",
              "    <tr>\n",
              "      <th>price</th>\n",
              "      <td>0.854988</td>\n",
              "      <td>0.442261</td>\n",
              "      <td>1.000000</td>\n",
              "    </tr>\n",
              "  </tbody>\n",
              "</table>\n",
              "</div>"
            ],
            "text/plain": [
              "           area     rooms     price\n",
              "area   1.000000  0.559967  0.854988\n",
              "rooms  0.559967  1.000000  0.442261\n",
              "price  0.854988  0.442261  1.000000"
            ]
          },
          "metadata": {
            "tags": []
          },
          "execution_count": 17
        }
      ]
    },
    {
      "cell_type": "code",
      "metadata": {
        "id": "KETAQkxbbIxo"
      },
      "source": [
        "#Haven checked for the correlation, next we go on to determine the dependent and the independent variables for this study.\n",
        "\n",
        "#we will go ahead and drop \"price\" and take the remaining as independent variable X. This will automatically make \"Y\" the dependent variable\n",
        "X = house_price.drop(['price'], axis=\"columns\")\n",
        "\n",
        "#Taking \"price\" as dependent variable Y\n",
        "Y = house_price[\"price\"]"
      ],
      "execution_count": null,
      "outputs": []
    },
    {
      "cell_type": "markdown",
      "metadata": {
        "id": "kv9K8wTmbIxp"
      },
      "source": [
        "Next, we will import the libraries needed to split our data into test and train data. This will help us achieve great level of accuracy with our prediction."
      ]
    },
    {
      "cell_type": "code",
      "metadata": {
        "id": "7xBawY9rbIxq"
      },
      "source": [
        "#Importing required libraries for splitting dataset \n",
        "from sklearn.model_selection import train_test_split\n",
        "\n",
        "#Dividing dataset to X_train and Y_train as training variables and y_train and y_test as testing variables\n",
        "#Making the ratio of 70% training and 30% testing as it is most efficient ratio.\n",
        "\n",
        "x_train, x_test, y_train, y_test = train_test_split(X,Y, test_size = 0.30, random_state = 0)"
      ],
      "execution_count": null,
      "outputs": []
    },
    {
      "cell_type": "markdown",
      "metadata": {
        "id": "SHUDMHsGbIxq"
      },
      "source": [
        "Next, we import the library for the linear regression "
      ]
    },
    {
      "cell_type": "code",
      "metadata": {
        "id": "2Bl0wFkEbIxr"
      },
      "source": [
        "#importing the linear regression \n",
        "from sklearn.linear_model import LinearRegression\n",
        "\n",
        "#creating linear regression object\n",
        "LR =LinearRegression()"
      ],
      "execution_count": null,
      "outputs": []
    },
    {
      "cell_type": "markdown",
      "metadata": {
        "id": "PF5mPOxjbIxr"
      },
      "source": [
        "The next thing to do is adjust our train model; X_train and Y_train"
      ]
    },
    {
      "cell_type": "code",
      "metadata": {
        "id": "9ihGSPQmbIxr",
        "outputId": "26dc0f53-029e-4c2d-bdd1-250bbfd63367"
      },
      "source": [
        "#Fitting model with x_train and y_train variables\n",
        "LR.fit(x_train,y_train)"
      ],
      "execution_count": null,
      "outputs": [
        {
          "output_type": "execute_result",
          "data": {
            "text/plain": [
              "LinearRegression(copy_X=True, fit_intercept=True, n_jobs=None, normalize=False)"
            ]
          },
          "metadata": {
            "tags": []
          },
          "execution_count": 22
        }
      ]
    },
    {
      "cell_type": "code",
      "metadata": {
        "id": "8odt3tX7bIxs",
        "outputId": "50e4184b-e1a0-4842-9265-d7e9002efba0"
      },
      "source": [
        "Yhat = LR.predict(x_test)\n",
        "Yhat"
      ],
      "execution_count": null,
      "outputs": [
        {
          "output_type": "execute_result",
          "data": {
            "text/plain": [
              "array([365977.65478565, 489446.70649556, 322978.95632163, 466823.64642005,\n",
              "       415301.34202456, 339623.53489025, 409766.97684652, 216993.91130762,\n",
              "       287442.37749737, 327146.81097447, 408934.87021514, 340323.87092216,\n",
              "       423561.40675708, 234207.05530868, 392331.77468104])"
            ]
          },
          "metadata": {
            "tags": []
          },
          "execution_count": 23
        }
      ]
    },
    {
      "cell_type": "code",
      "metadata": {
        "id": "7qIsJvYDbIxs",
        "outputId": "e8b8f8cb-b07d-4dbf-83de-f224e9cb7724"
      },
      "source": [
        "LR.score(x_train,y_train)"
      ],
      "execution_count": null,
      "outputs": [
        {
          "output_type": "execute_result",
          "data": {
            "text/plain": [
              "0.7718325335531547"
            ]
          },
          "metadata": {
            "tags": []
          },
          "execution_count": 25
        }
      ]
    },
    {
      "cell_type": "code",
      "metadata": {
        "id": "a8khonHjbIxs",
        "outputId": "d4431a2f-25c1-4ac5-c4c8-99845b34ea5b"
      },
      "source": [
        "LR.score(x_test,y_test)"
      ],
      "execution_count": null,
      "outputs": [
        {
          "output_type": "execute_result",
          "data": {
            "text/plain": [
              "0.6082849862044333"
            ]
          },
          "metadata": {
            "tags": []
          },
          "execution_count": 26
        }
      ]
    },
    {
      "cell_type": "code",
      "metadata": {
        "id": "oUnHJA6wbIxt"
      },
      "source": [
        ""
      ],
      "execution_count": null,
      "outputs": []
    }
  ]
}